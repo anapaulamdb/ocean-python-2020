{
  "nbformat": 4,
  "nbformat_minor": 0,
  "metadata": {
    "colab": {
      "name": "aula2.ipynb",
      "provenance": [],
      "collapsed_sections": [],
      "authorship_tag": "ABX9TyPk5lZuahPZcQIXqODPugHE",
      "include_colab_link": true
    },
    "kernelspec": {
      "name": "python3",
      "display_name": "Python 3"
    }
  },
  "cells": [
    {
      "cell_type": "markdown",
      "metadata": {
        "id": "view-in-github",
        "colab_type": "text"
      },
      "source": [
        "<a href=\"https://colab.research.google.com/github/anapaulamdb/ocean-python-2020/blob/master/aula2.ipynb\" target=\"_parent\"><img src=\"https://colab.research.google.com/assets/colab-badge.svg\" alt=\"Open In Colab\"/></a>"
      ]
    },
    {
      "cell_type": "code",
      "metadata": {
        "id": "ImBV7GT72l_f",
        "outputId": "3e5ac878-654f-4b58-9a0a-c268a2ff17ff",
        "colab": {
          "base_uri": "https://localhost:8080/",
          "height": 35
        }
      },
      "source": [
        "administrador = False #booleano\n",
        "print(administrador)"
      ],
      "execution_count": null,
      "outputs": [
        {
          "output_type": "stream",
          "text": [
            "False\n"
          ],
          "name": "stdout"
        }
      ]
    },
    {
      "cell_type": "code",
      "metadata": {
        "id": "M_TWqiD85mn9"
      },
      "source": [
        "#comparação  igual == / diferente !=\n",
        "\n",
        "comparacao_igual = (1 == 1)\n",
        "print(comparacao_igual)"
      ],
      "execution_count": null,
      "outputs": []
    },
    {
      "cell_type": "code",
      "metadata": {
        "id": "VOxFzmsO591R",
        "outputId": "4a2c366c-6971-4c7d-8f0b-700dbe15ed13",
        "colab": {
          "base_uri": "https://localhost:8080/",
          "height": 127
        }
      },
      "source": [
        "#operadores relacionais\n",
        "\n",
        "print(2 > 3) #False\n",
        "print(3 < 4) #True\n",
        "print(3 == 2) #False\n",
        "print(3 != 2) #True\n",
        "print(6 <= 9) #True\n",
        "print(6 >= 10) #False"
      ],
      "execution_count": null,
      "outputs": [
        {
          "output_type": "stream",
          "text": [
            "False\n",
            "True\n",
            "False\n",
            "True\n",
            "True\n",
            "False\n"
          ],
          "name": "stdout"
        }
      ]
    },
    {
      "cell_type": "code",
      "metadata": {
        "id": "Ngukf12R74c8",
        "outputId": "d96dc0b4-eb7c-4124-a18d-6911001b4d40",
        "colab": {
          "base_uri": "https://localhost:8080/",
          "height": 35
        }
      },
      "source": [
        "print(1 == \"1\") #False"
      ],
      "execution_count": null,
      "outputs": [
        {
          "output_type": "stream",
          "text": [
            "True\n"
          ],
          "name": "stdout"
        }
      ]
    },
    {
      "cell_type": "code",
      "metadata": {
        "id": "DN_iQkwW-zR0",
        "outputId": "f81dcfe6-f427-47b4-d8eb-1db14cec0818",
        "colab": {
          "base_uri": "https://localhost:8080/",
          "height": 54
        }
      },
      "source": [
        "#operadores lógicos AND e not\n",
        "\n",
        "print(True and False)\n",
        "print(not(True and False))"
      ],
      "execution_count": null,
      "outputs": [
        {
          "output_type": "stream",
          "text": [
            "False\n",
            "True\n"
          ],
          "name": "stdout"
        }
      ]
    },
    {
      "cell_type": "code",
      "metadata": {
        "id": "6-ax_1OF_utx",
        "outputId": "86651a2d-e84a-45e9-941a-94b1933243f6",
        "colab": {
          "base_uri": "https://localhost:8080/",
          "height": 54
        }
      },
      "source": [
        "# OR\n",
        "print(True or False)\n",
        "print(False or False)"
      ],
      "execution_count": null,
      "outputs": [
        {
          "output_type": "stream",
          "text": [
            "True\n",
            "False\n"
          ],
          "name": "stdout"
        }
      ]
    },
    {
      "cell_type": "markdown",
      "metadata": {
        "id": "_7zkDmeYDN3D"
      },
      "source": [
        "#Prioridade da lógica booleana\n",
        "\n",
        "Antes de tudo, resolver os operadores relacionais.\n",
        "Somente depois os lógicos:\n",
        "1. not\n",
        "2. and\n",
        "3. or"
      ]
    },
    {
      "cell_type": "code",
      "metadata": {
        "id": "zBiyWVODkzgY"
      },
      "source": [
        "login = \"admin\"\n",
        "senha = \"admin\"\n",
        "\n",
        "if login == \"admin\" and senha == \"admin\":\n",
        "  print(\"Administrador conectado.\")"
      ],
      "execution_count": null,
      "outputs": []
    },
    {
      "cell_type": "code",
      "metadata": {
        "id": "1Q3UEirlD09h",
        "outputId": "21aa5895-3598-47fd-ca89-5ef0bc08fb06",
        "colab": {
          "base_uri": "https://localhost:8080/",
          "height": 35
        }
      },
      "source": [
        "#condicionais\n",
        "# if else \n",
        "\n",
        "admin = False\n",
        "\n",
        "if admin == True:\n",
        "  print(\"Acesso liberado.\")\n",
        "else:\n",
        "  print(\"Acesso negado.\")"
      ],
      "execution_count": null,
      "outputs": [
        {
          "output_type": "stream",
          "text": [
            "Acesso negado.\n"
          ],
          "name": "stdout"
        }
      ]
    },
    {
      "cell_type": "code",
      "metadata": {
        "id": "RtHM9Z6LEx6w",
        "outputId": "b91f700c-6025-4578-ff9f-e7242769309e",
        "colab": {
          "base_uri": "https://localhost:8080/",
          "height": 35
        }
      },
      "source": [
        "# elif\n",
        "\n",
        "numero = 2\n",
        "\n",
        "if numero > 5:\n",
        "  print(f\"O numero {numero} é maior que 5.\")\n",
        "elif numero > 0:\n",
        "  print(f\"O número {numero} é maior que 0 e menor ou igual a 5\")\n",
        "else:\n",
        "  print(f\"O número {numero} é menor ou igual a zero.\")"
      ],
      "execution_count": null,
      "outputs": [
        {
          "output_type": "stream",
          "text": [
            "O número 2 é maior que 0 e menor ou igual a 5\n"
          ],
          "name": "stdout"
        }
      ]
    },
    {
      "cell_type": "markdown",
      "metadata": {
        "id": "BtQcbh4HNAgB"
      },
      "source": [
        "Escreva um programa que receba uma string digitada pelo usuario e caso seja igual a \"medieval\", exiba no console: \"espada\";\n",
        "caso contrario, se a string for igual a \"futurista\", exiba no console: \"sabre de luz\";\n",
        "caso contrário, exiba no console: \"tente novamente\"."
      ]
    },
    {
      "cell_type": "code",
      "metadata": {
        "id": "C4LVb3MANMVg",
        "outputId": "6bc26608-eb07-41e8-ae37-21d343f79c5a",
        "colab": {
          "base_uri": "https://localhost:8080/",
          "height": 54
        }
      },
      "source": [
        "palavra = input(\"Qual era você prefere: medieval ou futurista?\").lower()\n",
        "# .strip() remove espaços vazios numa string\n",
        "if palavra == \"medieval\": # outra opção é usar o in : if \"medieval\" in palavra:\n",
        "  print(\"espada\")\n",
        "elif palavra == \"futurista\":\n",
        "  print(\"sabre de luz\")\n",
        "else:\n",
        "  print(\"tente novamente\")"
      ],
      "execution_count": null,
      "outputs": [
        {
          "output_type": "stream",
          "text": [
            "Qual era você prefere: medieval ou futurista?Medieval\n",
            "espada\n"
          ],
          "name": "stdout"
        }
      ]
    },
    {
      "cell_type": "code",
      "metadata": {
        "id": "I5RuQdT2OHiu",
        "outputId": "3cc87c28-3364-489c-bc91-2ac30bc83520",
        "colab": {
          "base_uri": "https://localhost:8080/",
          "height": 35
        }
      },
      "source": [
        "# Função \n",
        "# def cria o bloco de código, depois damos um nome, os parenteses representam que é uma função e o dois pontos\n",
        "# representa o início do bloco\n",
        "# Tudo que estiver embaixo, com um nível de indentação a mais do que o nível da própria função, estará dentro\n",
        "# desse trecho\n",
        "\n",
        "def nome_da_funcao():\n",
        "  print(\"Isso é uma função\")\n",
        "\n",
        "nome_da_funcao()"
      ],
      "execution_count": null,
      "outputs": [
        {
          "output_type": "stream",
          "text": [
            "isso é uma função\n"
          ],
          "name": "stdout"
        }
      ]
    },
    {
      "cell_type": "code",
      "metadata": {
        "id": "U1yg4VOyXmDy",
        "outputId": "a9ecc3b0-9274-4657-8baa-f5d538eba6eb",
        "colab": {
          "base_uri": "https://localhost:8080/",
          "height": 35
        }
      },
      "source": [
        "#Parâmetros \n",
        "\n",
        "# Dentro dos parenteses de onde estamos CRIANDO a função (junto do def), declaramos os PARÂMETROS. Aqui não temos uma informação concreta ainda.\n",
        "# Já dentro dos parenteses de onde estamos CHAMANDO a função, declaramos os ARGUMENTOS. Essa é a informação concreta com que iremos trabalhar\n",
        "\n",
        "def somar(num1, num2):     #(num1, num2) -> parâmetros\n",
        "    return num1 + num2\n",
        " \n",
        "resultado = somar(2, 3)                #(2, 3) -> argumentos\n",
        "print(resultado)"
      ],
      "execution_count": null,
      "outputs": [
        {
          "output_type": "stream",
          "text": [
            "5\n"
          ],
          "name": "stdout"
        }
      ]
    },
    {
      "cell_type": "code",
      "metadata": {
        "id": "x4P95nRdbMt4",
        "outputId": "1a510f81-8e41-411b-c6db-db8385bd9c10",
        "colab": {
          "base_uri": "https://localhost:8080/",
          "height": 35
        }
      },
      "source": [
        "def teste():\n",
        "  return \"olá\"\n",
        "\n",
        "res = teste()\n",
        "print(res)"
      ],
      "execution_count": null,
      "outputs": [
        {
          "output_type": "stream",
          "text": [
            "olá\n"
          ],
          "name": "stdout"
        }
      ]
    },
    {
      "cell_type": "markdown",
      "metadata": {
        "id": "aEDne708wLJN"
      },
      "source": [
        "Crie uma função que receba um número como parâmetro, aplique esse número na fórmula abaixo e exiba o resultado no console:\n",
        "\n",
        "numero² + (numero % 10)"
      ]
    },
    {
      "cell_type": "code",
      "metadata": {
        "id": "9cxgdRwv1dk0",
        "outputId": "5d3461ab-4309-4a1c-c9c2-12a8d7e59b74",
        "colab": {
          "base_uri": "https://localhost:8080/",
          "height": 35
        }
      },
      "source": [
        "def calcularNumero(num):\n",
        "  return num**2 + num % 10\n",
        "\n",
        "resultado = resolve(20)\n",
        "print(resultado)"
      ],
      "execution_count": null,
      "outputs": [
        {
          "output_type": "stream",
          "text": [
            "400\n"
          ],
          "name": "stdout"
        }
      ]
    },
    {
      "cell_type": "code",
      "metadata": {
        "id": "Yp7TIqFX2mrO",
        "outputId": "dbda198f-c44d-4239-fd02-bd6c6da97abf",
        "colab": {
          "base_uri": "https://localhost:8080/",
          "height": 54
        }
      },
      "source": [
        "# extra\n",
        "def somarNumeros(*numeros):\n",
        "  return sum(numeros)\n",
        "\n",
        "resultado1 = somarNumeros(1, 2, 3, 4, 5, 6)\n",
        "print(resultado1)\n",
        "\n",
        "resultado2 = somarNumeros(10, 20, 30)\n",
        "print(resultado2)"
      ],
      "execution_count": null,
      "outputs": [
        {
          "output_type": "stream",
          "text": [
            "21\n",
            "60\n"
          ],
          "name": "stdout"
        }
      ]
    },
    {
      "cell_type": "markdown",
      "metadata": {
        "id": "v-fjRJM-2yMI"
      },
      "source": [
        "Crie uma função chamada ‘custo_hotel’ que receba um parâmetro (argumento) chamado ‘noites’ e retorne o custo total do hotel, sendo que 1 noite custa R$ 140,00.\n"
      ]
    },
    {
      "cell_type": "markdown",
      "metadata": {
        "id": "GsTGBHN62z3-"
      },
      "source": [
        "Crie uma função chamada ‘custo_aviao’ que receba o nome da cidade e retorne o custo da passagem de avião, sendo que passagem para:\n",
        "\n",
        "*  São Paulo custa R$ 312,00;\n",
        "\n",
        "*  Porto Alegre custa R$ 447,00;\n",
        "\n",
        "*  Recife custa R$ 831,00;\n",
        "\n",
        "*  Manaus custa R$ 986,00.\n"
      ]
    },
    {
      "cell_type": "markdown",
      "metadata": {
        "id": "q4L6CPhK20lh"
      },
      "source": [
        "Crie uma função chamada ‘custo_carro’ que receba um parâmetro chamado ‘dias’. Calcule o custo do aluguel do carro sendo que:\n",
        "*  A cada dia o carro custa R$ 40,00;\n",
        "\n",
        "*  Alugando 7 dias ou +: R$ 50,00 de desconto;\n",
        "\n",
        "*  Alugando 3 dias ou +: R$ 20,00 de desconto;\n",
        "\n",
        "Você pode receber apenas um desconto;\n",
        "\n",
        "Retorne o custo."
      ]
    }
  ]
}