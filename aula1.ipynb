{
  "nbformat": 4,
  "nbformat_minor": 0,
  "metadata": {
    "colab": {
      "name": "aula1.ipynb",
      "provenance": [],
      "collapsed_sections": [],
      "authorship_tag": "ABX9TyPhN3ZRyhLBuS7aMQ4PvWR/",
      "include_colab_link": true
    },
    "kernelspec": {
      "name": "python3",
      "display_name": "Python 3"
    }
  },
  "cells": [
    {
      "cell_type": "markdown",
      "metadata": {
        "id": "view-in-github",
        "colab_type": "text"
      },
      "source": [
        "<a href=\"https://colab.research.google.com/github/anapaulamdb/ocean-python-2020/blob/master/aula1.ipynb\" target=\"_parent\"><img src=\"https://colab.research.google.com/assets/colab-badge.svg\" alt=\"Open In Colab\"/></a>"
      ]
    },
    {
      "cell_type": "code",
      "metadata": {
        "id": "my8EZlDdtcZI",
        "outputId": "2e9996a1-4e50-4191-aee4-4a43a06d7b01",
        "colab": {
          "base_uri": "https://localhost:8080/",
          "height": 35
        }
      },
      "source": [
        "print(\"olá, mundo\")"
      ],
      "execution_count": null,
      "outputs": [
        {
          "output_type": "stream",
          "text": [
            "olá, mundo\n"
          ],
          "name": "stdout"
        }
      ]
    },
    {
      "cell_type": "code",
      "metadata": {
        "id": "7JT9Cupx1sqR",
        "outputId": "4d411172-5ab3-415e-abcb-bf795b0bbf87",
        "colab": {
          "base_uri": "https://localhost:8080/",
          "height": 35
        }
      },
      "source": [
        "variavel_string = \"texto\"\n",
        "variavel_int = 1\n",
        "variavel_float = 1.45\n",
        "variavel_bool = True"
      ],
      "execution_count": null,
      "outputs": [
        {
          "output_type": "stream",
          "text": [
            "1\n"
          ],
          "name": "stdout"
        }
      ]
    },
    {
      "cell_type": "code",
      "metadata": {
        "id": "lPN06-HQbe-Q"
      },
      "source": [
        "print(variavel_int)"
      ],
      "execution_count": null,
      "outputs": []
    },
    {
      "cell_type": "code",
      "metadata": {
        "id": "n-4EtLSlb8wS",
        "outputId": "fb33d721-7dfc-47d1-e0f8-71ba52e727e6",
        "colab": {
          "base_uri": "https://localhost:8080/",
          "height": 54
        }
      },
      "source": [
        "adicao = 10 + 5\n",
        "subtracao = 10 - 5\n",
        "multiplicacao = 10 * 5\n",
        "divisao = 10 / 5\n",
        "exponenciacao = 3 ** 10\n",
        "divisao_inteira = 25 // 2\n",
        "print(divisao)\n",
        "print(divisao_inteira)"
      ],
      "execution_count": null,
      "outputs": [
        {
          "output_type": "stream",
          "text": [
            "2.0\n",
            "12\n"
          ],
          "name": "stdout"
        }
      ]
    },
    {
      "cell_type": "code",
      "metadata": {
        "id": "lPtPDvOn6ElS",
        "outputId": "40eb8aa9-c5e0-4796-ecb4-0f7b5f61427d",
        "colab": {
          "base_uri": "https://localhost:8080/",
          "height": 35
        }
      },
      "source": [
        "def exibir_numero():\n",
        "    x = 10\n",
        "    print(x)\n",
        "exibir_numero()"
      ],
      "execution_count": null,
      "outputs": [
        {
          "output_type": "stream",
          "text": [
            "10\n"
          ],
          "name": "stdout"
        }
      ]
    },
    {
      "cell_type": "code",
      "metadata": {
        "id": "BaT5Vmuk9BP7",
        "outputId": "77cf0e83-9918-428d-e67d-c7da20cdf002",
        "colab": {
          "base_uri": "https://localhost:8080/",
          "height": 35
        }
      },
      "source": [
        "#def total(valor):\n",
        "#  taxa = 0.1 * valor\n",
        "#  return valor + taxa\n",
        "#total(42.54)\n",
        "\n",
        "valor = 42.54\n",
        "taxa = 0.1 * valor\n",
        "total= valor + taxa\n",
        "print(total)"
      ],
      "execution_count": null,
      "outputs": [
        {
          "output_type": "stream",
          "text": [
            "46.794\n"
          ],
          "name": "stdout"
        }
      ]
    },
    {
      "cell_type": "code",
      "metadata": {
        "id": "ZARD9DYgdxJo",
        "outputId": "046e60d9-25d2-4128-944c-2dd34d721f34",
        "colab": {
          "base_uri": "https://localhost:8080/",
          "height": 35
        }
      },
      "source": [
        "print(\"R$ \" + str(total))"
      ],
      "execution_count": null,
      "outputs": [
        {
          "output_type": "stream",
          "text": [
            "R$ 46.794\n"
          ],
          "name": "stdout"
        }
      ]
    },
    {
      "cell_type": "code",
      "metadata": {
        "id": "z8n1g551J7tp",
        "outputId": "2e8b02cc-5587-4203-a7bb-3aa2752a499f",
        "colab": {
          "base_uri": "https://localhost:8080/",
          "height": 54
        }
      },
      "source": [
        "x = 134.567\n",
        "print(f\"O valor é R$ {x:.2f}\") #valor float com duas casas\n",
        "print(f\"Número: {5:02}\") # Zeros na frente"
      ],
      "execution_count": null,
      "outputs": [
        {
          "output_type": "stream",
          "text": [
            "O valor é R$ 134.57\n",
            "Número: 05\n"
          ],
          "name": "stdout"
        }
      ]
    },
    {
      "cell_type": "code",
      "metadata": {
        "id": "qBxEE556ALEZ",
        "outputId": "e8fc4e82-7f09-4c3e-bc52-b22ba40e61be",
        "colab": {
          "base_uri": "https://localhost:8080/",
          "height": 35
        }
      },
      "source": [
        "nome = \"Ana\"\n",
        "snome = \"Paula\"\n",
        "print(nome +\" \" +snome) #concatenação"
      ],
      "execution_count": null,
      "outputs": [
        {
          "output_type": "stream",
          "text": [
            "Ana Paula\n"
          ],
          "name": "stdout"
        }
      ]
    },
    {
      "cell_type": "code",
      "metadata": {
        "id": "_0XCzLZNCAeK",
        "outputId": "ed975174-360e-4689-8cf5-b62f11ff3ef1",
        "colab": {
          "base_uri": "https://localhost:8080/",
          "height": 35
        }
      },
      "source": [
        "letra1 = nome[0]\n",
        "letra2 = snome[0]\n",
        "print(letra1 + letra2)"
      ],
      "execution_count": null,
      "outputs": [
        {
          "output_type": "stream",
          "text": [
            "AP\n"
          ],
          "name": "stdout"
        }
      ]
    },
    {
      "cell_type": "code",
      "metadata": {
        "id": "g934TeUiCZg9",
        "outputId": "fba35571-90f1-4a44-a16a-6e002e17d0c3",
        "colab": {
          "base_uri": "https://localhost:8080/",
          "height": 90
        }
      },
      "source": [
        "print(nome)\n",
        "print(len(nome)) # tamanho da string / qtd de caracteres\n",
        "print(nome.lower()) # Transforma o texto em minúsculo\n",
        "print(nome.upper()) # Transforma o texto em maiúsculo"
      ],
      "execution_count": null,
      "outputs": [
        {
          "output_type": "stream",
          "text": [
            "Ana\n",
            "3\n",
            "ana\n",
            "ANA\n"
          ],
          "name": "stdout"
        }
      ]
    },
    {
      "cell_type": "code",
      "metadata": {
        "id": "M3I3l-5kIBt9",
        "outputId": "5dd5062a-33e5-4a96-b6df-f5b167bdd3a0",
        "colab": {
          "base_uri": "https://localhost:8080/",
          "height": 72
        }
      },
      "source": [
        "nome = input(\"Digite seu nome: \")\n",
        "sobrenome = input(\"Digite seu sobrenome: \")\n",
        "\n",
        "print(f\"Seu nome é {nome.capitalize()} {sobrenome.capitalize()}\")"
      ],
      "execution_count": null,
      "outputs": [
        {
          "output_type": "stream",
          "text": [
            "Digite seu nome: ana\n",
            "Digite seu sobrenome: brito\n",
            "Seu nome é Ana Brito\n"
          ],
          "name": "stdout"
        }
      ]
    },
    {
      "cell_type": "code",
      "metadata": {
        "id": "8pbnThPtKAlj"
      },
      "source": [
        "nome = input(\"nome: \").capitalize()\n",
        "idade = int(input(\"idade: \"))#convertendo valor para inteiro\n",
        "genero = input(\"genero: \").capitalize()\n",
        "print(f\"Olá, {nome}, você possui {idade} anos de idade e é do gênero {genero}. Já pensou no que fará no seu aniversário de {idade+1} anos?\")"
      ],
      "execution_count": null,
      "outputs": []
    },
    {
      "cell_type": "code",
      "metadata": {
        "id": "-Q5OpWn4Mp8w",
        "outputId": "3cf17f7e-ef06-4d05-f963-51667e187790",
        "colab": {
          "base_uri": "https://localhost:8080/",
          "height": 35
        }
      },
      "source": [
        "#importando bibliotecas /algumas já vem junto com o python (built-in)\n",
        "\n",
        "from datetime import datetime as dt\n",
        "\n",
        "agora = dt.now() # Pega a data e hora atual do sistema (atenção com o fuso horário, pq é o fuso da máquina!)\n",
        "\n",
        "print(agora)"
      ],
      "execution_count": null,
      "outputs": [
        {
          "output_type": "stream",
          "text": [
            "2020-09-28 20:53:19.939829\n"
          ],
          "name": "stdout"
        }
      ]
    },
    {
      "cell_type": "code",
      "metadata": {
        "id": "2eJKFx_afWij",
        "outputId": "6c0e756c-30fa-45af-b990-94f6e854d1b1",
        "colab": {
          "base_uri": "https://localhost:8080/",
          "height": 54
        }
      },
      "source": [
        "ano = agora.year\n",
        "mes = agora.month\n",
        "dia = agora.day\n",
        "\n",
        "hora = agora.hour\n",
        "minuto = agora.minute\n",
        "segundo = agora.second\n",
        " \n",
        "print(f\"{dia:02}/{mes:02}/{ano:04}\")\n",
        "print(f\"{dia:02}/{mes:02}/{ano:04} - {hora}h{minuto}m{segundo}s\")"
      ],
      "execution_count": null,
      "outputs": [
        {
          "output_type": "stream",
          "text": [
            "28/09/2020\n",
            "28/09/2020 - 20h53m19s\n"
          ],
          "name": "stdout"
        }
      ]
    }
  ]
}